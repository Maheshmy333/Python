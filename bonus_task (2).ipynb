{
  "cells": [
    {
      "cell_type": "markdown",
      "metadata": {
        "id": "view-in-github",
        "colab_type": "text"
      },
      "source": [
        "<a href=\"https://colab.research.google.com/github/Maheshmy333/Python/blob/main/bonus_task%20(2).ipynb\" target=\"_parent\"><img src=\"https://colab.research.google.com/assets/colab-badge.svg\" alt=\"Open In Colab\"/></a>"
      ]
    },
    {
      "cell_type": "code",
      "execution_count": null,
      "id": "328b312a",
      "metadata": {
        "id": "328b312a"
      },
      "outputs": [],
      "source": [
        "from amazoncaptcha import AmazonCaptcha  # library that converts the captcha to text\n",
        "from selenium import webdriver\n",
        "from selenium.webdriver.common.keys import Keys\n",
        "import time\n",
        "\n",
        "driver = webdriver.Chrome(executable_path='/home/jithin/Downloads/driver/chromedriver')\n",
        "driver.get('https://www.amazon.com/errors/validateCaptcha')\n",
        "\n",
        "input_box = driver.find_element_by_id((\"captchacharacters\"))  # the input box in the captcha page\n",
        "\n",
        "while True:  # using while so that if the captcha appears again the code will be repeated\n",
        "    captcha = AmazonCaptcha.fromdriver(driver)  # delivering captcha to amazoncaptcha library\n",
        "    solution = captcha.solve(keep_logs=True)  # getting the solution of the captcha in text format\n",
        "    input_box.send_keys(solution)  # input the solution to the textbox\n",
        "    time.sleep(2)\n",
        "    input_box.send_keys(Keys.ENTER)  # press the submit key\n",
        "    try:\n",
        "        input_box = driver.find_element_by_id((\"captchacharacters\")) # checking whether we are in the captcha page \n",
        "    except:\n",
        "        break   # if we are not in the captcha page then break\n",
        "    \n",
        "time.sleep(5)\n",
        "driver.close()\n"
      ]
    }
  ],
  "metadata": {
    "kernelspec": {
      "display_name": "Python 3 (ipykernel)",
      "language": "python",
      "name": "python3"
    },
    "language_info": {
      "codemirror_mode": {
        "name": "ipython",
        "version": 3
      },
      "file_extension": ".py",
      "mimetype": "text/x-python",
      "name": "python",
      "nbconvert_exporter": "python",
      "pygments_lexer": "ipython3",
      "version": "3.9.7"
    },
    "colab": {
      "name": "bonus_task (2).ipynb",
      "provenance": [],
      "toc_visible": true,
      "include_colab_link": true
    }
  },
  "nbformat": 4,
  "nbformat_minor": 5
}