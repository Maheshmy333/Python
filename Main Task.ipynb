{
  "cells": [
    {
      "cell_type": "markdown",
      "metadata": {
        "id": "view-in-github",
        "colab_type": "text"
      },
      "source": [
        "<a href=\"https://colab.research.google.com/github/Maheshmy333/Python/blob/main/Main%20Task.ipynb\" target=\"_parent\"><img src=\"https://colab.research.google.com/assets/colab-badge.svg\" alt=\"Open In Colab\"/></a>"
      ]
    },
    {
      "cell_type": "code",
      "execution_count": null,
      "id": "b43a0cd1",
      "metadata": {
        "id": "b43a0cd1",
        "outputId": "ed21587d-6d19-4196-9fa8-203166aebafd"
      },
      "outputs": [
        {
          "name": "stdout",
          "output_type": "stream",
          "text": [
            "Not Available\n",
            "Elapsed time during the whole program in seconds: 18.859375\n"
          ]
        }
      ],
      "source": [
        "import csv\n",
        "import requests\n",
        "from bs4 import BeautifulSoup\n",
        "import html5lib\n",
        "from time import process_time\n",
        "urls=[]\n",
        "amazon=[]\n",
        "t1_start = process_time()\n",
        "HEADERS = ({'User-Agent':'Mozilla/5.0 (Windows NT 10.0; Win64; x64) AppleWebKit/537.36 (KHTML, like Gecko) Chrome/100.0.4896.88 Safari/537.36','Accept-Language': 'en-US, en;q=0.5'})        \n",
        "with open('sheet.csv','r') as cr:\n",
        "    c=csv.DictReader(cr)\n",
        "    for i in c:\n",
        "        if len(i['Asin'])==7:\n",
        "            a='000'+i['Asin']\n",
        "        elif len(i['Asin'])==10:\n",
        "            a=i['Asin']  \n",
        "        else:\n",
        "            continue\n",
        "        url='https://www.amazon.{}/dp/{}'.format(i['country'],a)\n",
        "        urls.append(url)\n",
        "for j in urls[0:100]:\n",
        "    amazon_product={}\n",
        "    r=requests.get(j,headers=HEADERS)\n",
        "    \n",
        "    if r.status_code==404:\n",
        "        print(\"Not Available\")\n",
        "        continue\n",
        "    else:\n",
        "        soup=BeautifulSoup(r.content,'html.parser')\n",
        "        amazon_product['URL']=j\n",
        "\n",
        "        title=soup.find(id=\"productTitle\").text.strip()\n",
        "        amazon_product['Product_Title']=title\n",
        "\n",
        "        img=soup.find(id=\"landingImage\") or soup.find(id=\"imgBlkFront\")\n",
        "        i=img.get(\"src\")\n",
        "        amazon_product['Image_url']=i\n",
        "        \n",
        "        detail=soup.find(class_=\"a-list-item\").text.strip()\n",
        "        amazon_product['Product_details']=detail\n",
        "\n",
        "        price=soup.find(class_=\"a-size-medium a-color-price header-price a-text-normal\")\n",
        "        if price is not None:\n",
        "            p=price.text.strip()       \n",
        "        else:\n",
        "            p=None\n",
        "        amazon_product['Product_Price']=p\n",
        "        \n",
        "        amazon.append(amazon_product)\n",
        "t1_stop = process_time()\n",
        "print(\"Elapsed time during the whole program in seconds:\",t1_stop-t1_start) "
      ]
    },
    {
      "cell_type": "code",
      "execution_count": null,
      "id": "2605a31a",
      "metadata": {
        "id": "2605a31a"
      },
      "outputs": [],
      "source": [
        "import json\n",
        "json_string = json.dumps(amazon)\n",
        "with open(\"Amazon_JSON.json\", \"w\") as outfile:\n",
        "    outfile.write(json_string)\n"
      ]
    }
  ],
  "metadata": {
    "kernelspec": {
      "display_name": "Python 3 (ipykernel)",
      "language": "python",
      "name": "python3"
    },
    "language_info": {
      "codemirror_mode": {
        "name": "ipython",
        "version": 3
      },
      "file_extension": ".py",
      "mimetype": "text/x-python",
      "name": "python",
      "nbconvert_exporter": "python",
      "pygments_lexer": "ipython3",
      "version": "3.9.7"
    },
    "colab": {
      "name": "Main Task.ipynb",
      "provenance": [],
      "include_colab_link": true
    }
  },
  "nbformat": 4,
  "nbformat_minor": 5
}